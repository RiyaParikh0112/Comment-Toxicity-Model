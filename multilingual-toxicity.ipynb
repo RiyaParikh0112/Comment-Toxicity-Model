{
 "cells": [
  {
   "cell_type": "markdown",
   "id": "e35127e5",
   "metadata": {
    "_cell_guid": "b1076dfc-b9ad-4769-8c92-a6c4dae69d19",
    "_uuid": "8f2839f25d086af736a60e9eeb907d3b93b6e0e5",
    "papermill": {
     "duration": 0.002676,
     "end_time": "2022-12-23T06:25:15.720646",
     "exception": false,
     "start_time": "2022-12-23T06:25:15.717970",
     "status": "completed"
    },
    "tags": []
   },
   "source": [
    "## Preparing the data"
   ]
  },
  {
   "cell_type": "code",
   "execution_count": 1,
   "id": "d015e036",
   "metadata": {
    "execution": {
     "iopub.execute_input": "2022-12-23T06:25:15.726114Z",
     "iopub.status.busy": "2022-12-23T06:25:15.725656Z",
     "iopub.status.idle": "2022-12-23T06:27:46.743855Z",
     "shell.execute_reply": "2022-12-23T06:27:46.742496Z"
    },
    "papermill": {
     "duration": 151.02443,
     "end_time": "2022-12-23T06:27:46.746875",
     "exception": false,
     "start_time": "2022-12-23T06:25:15.722445",
     "status": "completed"
    },
    "tags": []
   },
   "outputs": [
    {
     "name": "stdout",
     "output_type": "stream",
     "text": [
      "\u001b[33mWARNING: Running pip as the 'root' user can result in broken permissions and conflicting behaviour with the system package manager. It is recommended to use a virtual environment instead: https://pip.pypa.io/warnings/venv\u001b[0m\u001b[33m\r\n",
      "\u001b[0m\u001b[33mWARNING: Running pip as the 'root' user can result in broken permissions and conflicting behaviour with the system package manager. It is recommended to use a virtual environment instead: https://pip.pypa.io/warnings/venv\u001b[0m\u001b[33m\r\n",
      "\u001b[0m\u001b[33mWARNING: Running pip as the 'root' user can result in broken permissions and conflicting behaviour with the system package manager. It is recommended to use a virtual environment instead: https://pip.pypa.io/warnings/venv\u001b[0m\u001b[33m\r\n",
      "\u001b[0m\u001b[33mWARNING: Running pip as the 'root' user can result in broken permissions and conflicting behaviour with the system package manager. It is recommended to use a virtual environment instead: https://pip.pypa.io/warnings/venv\u001b[0m\u001b[33m\r\n",
      "\u001b[0m\u001b[31mERROR: pip's dependency resolver does not currently take into account all the packages that are installed. This behaviour is the source of the following dependency conflicts.\r\n",
      "beatrix-jupyterlab 3.1.7 requires google-cloud-bigquery-storage, which is not installed.\r\n",
      "pandas-profiling 3.1.0 requires markupsafe~=2.0.1, but you have markupsafe 2.1.1 which is incompatible.\r\n",
      "google-api-core 1.33.2 requires protobuf!=3.20.0,!=3.20.1,!=4.21.0,!=4.21.1,!=4.21.2,!=4.21.3,!=4.21.4,!=4.21.5,<4.0.0dev,>=3.19.5, but you have protobuf 3.19.4 which is incompatible.\r\n",
      "gcsfs 2022.5.0 requires fsspec==2022.5.0, but you have fsspec 2022.8.2 which is incompatible.\r\n",
      "apache-beam 2.40.0 requires dill<0.3.2,>=0.3.1.1, but you have dill 0.3.5.1 which is incompatible.\r\n",
      "aiobotocore 2.4.0 requires botocore<1.27.60,>=1.27.59, but you have botocore 1.27.93 which is incompatible.\u001b[0m\u001b[31m\r\n",
      "\u001b[0m\u001b[33mWARNING: Running pip as the 'root' user can result in broken permissions and conflicting behaviour with the system package manager. It is recommended to use a virtual environment instead: https://pip.pypa.io/warnings/venv\u001b[0m\u001b[33m\r\n",
      "\u001b[0m"
     ]
    }
   ],
   "source": [
    "#install and import necessary packages\n",
    "!pip install -q pyicu\n",
    "!pip install -q pycld2\n",
    "!pip install -q polyglot\n",
    "!pip install -q textstat\n",
    "!pip install -q googletrans"
   ]
  },
  {
   "cell_type": "code",
   "execution_count": 2,
   "id": "20db8edc",
   "metadata": {
    "execution": {
     "iopub.execute_input": "2022-12-23T06:27:46.752581Z",
     "iopub.status.busy": "2022-12-23T06:27:46.752228Z",
     "iopub.status.idle": "2022-12-23T06:27:59.212374Z",
     "shell.execute_reply": "2022-12-23T06:27:59.211108Z"
    },
    "papermill": {
     "duration": 12.466543,
     "end_time": "2022-12-23T06:27:59.215512",
     "exception": false,
     "start_time": "2022-12-23T06:27:46.748969",
     "status": "completed"
    },
    "tags": []
   },
   "outputs": [],
   "source": [
    "#import libraries\n",
    "\n",
    "import numpy as np\n",
    "import pandas as pd\n",
    "import matplotlib.pyplot as plt\n",
    "import seaborn as sns\n",
    "import os\n",
    "import re\n",
    "import gc\n",
    "import folium\n",
    "import textstat\n",
    "import scipy as sp\n",
    "import math\n",
    "from colorama import Fore, Back, Style, init\n",
    "import random\n",
    "from scipy import stats\n",
    "import warnings\n",
    "warnings.filterwarnings('ignore')\n",
    "import random\n",
    "import networkx as nx\n",
    "from pandas import Timestamp\n",
    "from PIL import Image\n",
    "from IPython.display import SVG\n",
    "# from keras.utils import model_to_dot\n",
    "import requests\n",
    "from IPython.display import HTML\n",
    "from tqdm import tqdm #printing progress bar\n",
    "import matplotlib.cm as cm\n",
    "tqdm.pandas()\n",
    "\n",
    "#EDA-- Plotly\n",
    "import plotly.express as px\n",
    "import plotly.graph_objects as go\n",
    "import plotly.figure_factory as ff\n",
    "from plotly.subplots import make_subplots\n",
    "\n",
    "\n",
    "#NLTK -- Natural Language Toolkit\n",
    "import nltk\n",
    "from nltk.stem.wordnet import WordNetLemmatizer\n",
    "from nltk.tokenize import word_tokenize\n",
    "from nltk.tokenize import TweetTokenizer\n",
    "\n",
    "from textblob import TextBlob\n",
    "from nltk.corpus import wordnet\n",
    "from nltk.corpus import stopwords\n",
    "from nltk.sentiment.vader import SentimentIntensityAnalyzer\n",
    "from wordcloud import WordCloud, STOPWORDS\n",
    "from polyglot.detect import Detector\n",
    "stopword=set(STOPWORDS)\n",
    "\n",
    "lem = WordNetLemmatizer()\n",
    "tokenizer=TweetTokenizer()\n",
    "\n",
    "np.random.seed(0)\n",
    "\n",
    "\n",
    "#Tensorflow/Keras\n",
    "import tensorflow as tf\n",
    "import transformers\n",
    "from tensorflow.keras.callbacks import Callback\n",
    "from sklearn.metrics import accuracy_score,roc_auc_score\n",
    "from tensorflow.keras.callbacks import ModelCheckpoint, ReduceLROnPlateau, CSVLogger\n",
    "\n",
    "from tensorflow.keras.models import Model\n",
    "from tensorflow.keras import optimizers\n",
    "from tensorflow.keras.optimizers import Adam\n",
    "from tokenizers import BertWordPieceTokenizer\n",
    "from tensorflow.keras import layers\n",
    "from tensorflow.keras.layers import Dense, Input, Dropout, Embedding\n",
    "from tensorflow.keras.layers import LSTM, GRU, Conv1D, SpatialDropout1D\n",
    "\n",
    "\n",
    "from tensorflow.keras import regularizers\n",
    "from tensorflow.keras import initializers\n",
    "from tensorflow.keras import constraints\n",
    "from tensorflow.keras import activations\n",
    "\n",
    "import tensorflow.keras.backend as K\n",
    "from tensorflow.keras.layers import *\n",
    "from tensorflow.keras.optimizers import *\n",
    "from tensorflow.keras.activations import *\n",
    "from tensorflow.keras.constraints import *\n",
    "from tensorflow.keras.initializers import *\n",
    "from tensorflow.keras.regularizers import *\n",
    "\n",
    "from sklearn import metrics\n",
    "from sklearn.utils import shuffle\n",
    "from gensim.models import Word2Vec\n",
    "from sklearn.cluster import KMeans\n",
    "from sklearn.decomposition import PCA\n",
    "from sklearn.feature_extraction.text import TfidfVectorizer\n",
    "from sklearn.feature_extraction.text import  CountVectorizer\n",
    "from sklearn.feature_extraction.text import HashingVectorizer\n",
    "\n",
    "\n",
    "\n",
    "\n"
   ]
  },
  {
   "cell_type": "code",
   "execution_count": null,
   "id": "e19449b8",
   "metadata": {
    "papermill": {
     "duration": 0.003005,
     "end_time": "2022-12-23T06:27:59.221602",
     "exception": false,
     "start_time": "2022-12-23T06:27:59.218597",
     "status": "completed"
    },
    "tags": []
   },
   "outputs": [],
   "source": []
  }
 ],
 "metadata": {
  "kernelspec": {
   "display_name": "Python 3",
   "language": "python",
   "name": "python3"
  },
  "language_info": {
   "codemirror_mode": {
    "name": "ipython",
    "version": 3
   },
   "file_extension": ".py",
   "mimetype": "text/x-python",
   "name": "python",
   "nbconvert_exporter": "python",
   "pygments_lexer": "ipython3",
   "version": "3.7.12"
  },
  "papermill": {
   "default_parameters": {},
   "duration": 175.626187,
   "end_time": "2022-12-23T06:28:02.230327",
   "environment_variables": {},
   "exception": null,
   "input_path": "__notebook__.ipynb",
   "output_path": "__notebook__.ipynb",
   "parameters": {},
   "start_time": "2022-12-23T06:25:06.604140",
   "version": "2.3.4"
  }
 },
 "nbformat": 4,
 "nbformat_minor": 5
}
